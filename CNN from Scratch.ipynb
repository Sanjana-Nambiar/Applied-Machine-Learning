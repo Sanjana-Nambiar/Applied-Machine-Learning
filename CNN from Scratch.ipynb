{
 "cells": [
  {
   "cell_type": "markdown",
   "id": "a919fda2-5360-439c-a6ba-c4944e67052c",
   "metadata": {},
   "source": [
    "# CNN Bonus Assignment"
   ]
  },
  {
   "cell_type": "code",
   "execution_count": 1,
   "id": "24051ba2-ae5e-4efb-a50c-7aec4c9c3b0a",
   "metadata": {
    "scrolled": true
   },
   "outputs": [
    {
     "name": "stderr",
     "output_type": "stream",
     "text": [
      "2024-05-15 23:20:19.255336: I tensorflow/core/platform/cpu_feature_guard.cc:182] This TensorFlow binary is optimized to use available CPU instructions in performance-critical operations.\n",
      "To enable the following instructions: SSE4.1 SSE4.2 AVX AVX2 FMA, in other operations, rebuild TensorFlow with the appropriate compiler flags.\n"
     ]
    }
   ],
   "source": [
    "import numpy as np\n",
    "from keras.datasets import mnist \n",
    "import matplotlib.pyplot as plt\n",
    "from PIL import Image"
   ]
  },
  {
   "cell_type": "code",
   "execution_count": 7,
   "id": "4bfd4bf6-7951-40d6-9476-d58f8f3e6109",
   "metadata": {},
   "outputs": [],
   "source": [
    "# loading the MNIST dataset\n",
    "(train_images, train_labels), (test_images, test_labels) = mnist.load_data()\n",
    "\n",
    "# Note: Due to the computationally heavy operations of cnn reducing the dataset size to complete the assignment\n",
    "train_images = train_images[:5000] / 255.0  # using 5000 images for training\n",
    "train_labels = train_labels[:5000]\n",
    "test_images = test_images[:2000] / 255.0  # using 2000 images for testing\n",
    "test_labels = test_labels[:2000]"
   ]
  },
  {
   "cell_type": "code",
   "execution_count": 3,
   "id": "f09a4b91-8f9c-47cc-8145-87b916e3fe6d",
   "metadata": {},
   "outputs": [
    {
     "data": {
      "text/plain": [
       "784"
      ]
     },
     "execution_count": 3,
     "metadata": {},
     "output_type": "execute_result"
    }
   ],
   "source": [
    "train_images[0].size"
   ]
  },
  {
   "cell_type": "markdown",
   "id": "974ee992-3afa-43f1-ad0d-4854536cdc50",
   "metadata": {},
   "source": [
    "### CNN Architecture\n",
    "1. Input Layer: 28x28 grayscale image\n",
    "2. First CNN Layer: 2 neurons with kernel size 3x3, stride 1, and Sigmoid activation\n",
    "3. Average Pooling Layer with pool size 2x2 and stride 2\n",
    "4. Flatten the output from the average pooling layer\n",
    "5. 1x1 Convolution Layer with 10 output channels\n",
    "6. Softmax Activation"
   ]
  },
  {
   "cell_type": "code",
   "execution_count": 4,
   "id": "f9987ced-a9ec-4c27-9ad1-ff528155ddbf",
   "metadata": {},
   "outputs": [],
   "source": [
    "class CNN:\n",
    "    def __init__(self):\n",
    "        # initializing the weights and biases for the convolutional layers\n",
    "        # conv1_weights: 2 filters of size 3x3\n",
    "        # conv2_weights: 10 filters for the fully connected layer\n",
    "        self.conv1_weights = np.random.randn(2, 3, 3) * 0.01  \n",
    "        self.conv1_bias = np.zeros(2)\n",
    "        self.conv2_weights = np.random.randn(10, 338) * 0.01  \n",
    "        self.conv2_bias = np.zeros(10)\n",
    "\n",
    "    def sigmoid(self, x):\n",
    "        return 1 / (1 + np.exp(-x))\n",
    "\n",
    "    def sigmoid_derivative(self, x):\n",
    "        return x * (1 - x)\n",
    "\n",
    "    def softmax(self, x):\n",
    "        exp_x = np.exp(x - np.max(x))\n",
    "        return exp_x / exp_x.sum()\n",
    "\n",
    "    def convolve(self, image, kernel, bias, stride=1):\n",
    "        # convolution operation on the input image\n",
    "        kernel_height, kernel_width = kernel.shape\n",
    "        output_height = (image.shape[0] - kernel_height) // stride + 1\n",
    "        output_width = (image.shape[1] - kernel_width) // stride + 1\n",
    "        output = np.zeros((output_height, output_width))\n",
    "        \n",
    "        for i in range(output_height):\n",
    "            for j in range(output_width):\n",
    "                output[i, j] = np.sum(image[i*stride:i*stride+kernel_height, j*stride:j*stride+kernel_width] * kernel) + bias\n",
    "                \n",
    "        return output\n",
    "\n",
    "    def average_pooling(self, image, pool_size=2, stride=2):\n",
    "        # average pooling operation\n",
    "        output_height = (image.shape[0] - pool_size) // stride + 1\n",
    "        output_width = (image.shape[1] - pool_size) // stride + 1\n",
    "        output = np.zeros((output_height, output_width))\n",
    "        \n",
    "        for i in range(output_height):\n",
    "            for j in range(output_width):\n",
    "                output[i, j] = np.mean(image[i*stride:i*stride+pool_size, j*stride:j*stride+pool_size])\n",
    "                \n",
    "        return output\n",
    "\n",
    "    def forward(self, x):\n",
    "        # forward pass through the network\n",
    "        # first convolutional layer with sigmoid activation\n",
    "        self.conv1_output = np.zeros((2, x.shape[0] - 2, x.shape[1] - 2))\n",
    "        for i in range(2):\n",
    "            self.conv1_output[i] = self.sigmoid(self.convolve(x, self.conv1_weights[i], self.conv1_bias[i]))\n",
    "        \n",
    "        # average pooling layer\n",
    "        self.pool_output = np.zeros((2, (self.conv1_output.shape[1] - 1) // 2 + 1, (self.conv1_output.shape[2] - 1) // 2 + 1))\n",
    "        for i in range(2):\n",
    "            self.pool_output[i] = self.average_pooling(self.conv1_output[i])\n",
    "\n",
    "        # flatten the pooled output\n",
    "        self.flatten_output = self.pool_output.flatten()\n",
    "        \n",
    "        # fully connected layer with softmax activation\n",
    "        self.conv2_output = self.softmax(np.dot(self.conv2_weights, self.flatten_output) + self.conv2_bias)\n",
    "        \n",
    "        return self.conv2_output\n",
    "\n",
    "    def backward(self, x, y, learning_rate=0.01):\n",
    "        # first getting the error \n",
    "        error = self.conv2_output - y\n",
    "        \n",
    "        # gradients for the fully connected layer\n",
    "        dconv2_weights = np.outer(error, self.flatten_output)\n",
    "        dconv2_bias = error\n",
    "        \n",
    "        # propagating gradients through the pooling layer\n",
    "        dpool_output = np.dot(self.conv2_weights.T, error).reshape(self.pool_output.shape)\n",
    "        \n",
    "        # propagating gradients through convolutional layer\n",
    "        dconv1_output = np.zeros_like(self.conv1_output)\n",
    "        for i in range(2):\n",
    "            dconv1_output[i] = self.sigmoid_derivative(self.conv1_output[i]) * np.kron(dpool_output[i], np.ones((2, 2)) / 4)\n",
    "        \n",
    "        # gradients for the first convolutional layer\n",
    "        dconv1_weights = np.zeros_like(self.conv1_weights)\n",
    "        dconv1_bias = np.zeros_like(self.conv1_bias)\n",
    "        for i in range(2):\n",
    "            for j in range(dconv1_output.shape[1]):\n",
    "                for k in range(dconv1_output.shape[2]):\n",
    "                    dconv1_weights[i] += x[j:j+3, k:k+3] * dconv1_output[i, j, k]\n",
    "                    dconv1_bias[i] += dconv1_output[i, j, k]\n",
    "        \n",
    "        # updating weights and biases\n",
    "        self.conv2_weights -= learning_rate * dconv2_weights\n",
    "        self.conv2_bias -= learning_rate * dconv2_bias\n",
    "        self.conv1_weights -= learning_rate * dconv1_weights\n",
    "        self.conv1_bias -= learning_rate * dconv1_bias\n",
    "\n",
    "    def train(self, train_images, train_labels, test_images, test_labels, epochs=10, learning_rate=0.01, batch_size=32):\n",
    "        # training loop for the network\n",
    "        print(\"Training the model...\")\n",
    "        num_batches = len(train_images) // batch_size\n",
    "        loss_per_epoch = []\n",
    "        test_loss_per_epoch = []\n",
    "        for epoch in range(epochs):\n",
    "            epoch_loss = 0\n",
    "            for batch in range(num_batches):\n",
    "                batch_start = batch * batch_size\n",
    "                batch_end = batch_start + batch_size\n",
    "                batch_images = train_images[batch_start:batch_end]\n",
    "                batch_labels = train_labels[batch_start:batch_end]\n",
    "                \n",
    "                for i in range(batch_size):\n",
    "                    x = batch_images[i]\n",
    "                    y = np.zeros(10)\n",
    "                    y[batch_labels[i]] = 1\n",
    "                    output = self.forward(x)\n",
    "                    epoch_loss += -np.sum(y * np.log(output))\n",
    "                    self.backward(x, y, learning_rate)\n",
    "                    \n",
    "            loss_per_epoch.append(epoch_loss / len(train_images))\n",
    "            print(f\"Epoch {epoch+1}/{epochs} complete, Loss: {loss_per_epoch[-1]:.4f}\")\n",
    "            \n",
    "            _, test_loss = self.evaluate(test_images, test_labels)\n",
    "            test_loss_per_epoch.append(test_loss)\n",
    "        \n",
    "        return loss_per_epoch, test_loss_per_epoch\n",
    "\n",
    "    def evaluate(self, test_images, test_labels):\n",
    "        # evaluating the network on the test set\n",
    "        correct = 0\n",
    "        test_loss = 0\n",
    "        for i in range(len(test_images)):\n",
    "            x = test_images[i]\n",
    "            y = np.zeros(10)\n",
    "            y[test_labels[i]] = 1\n",
    "            output = self.forward(x)\n",
    "            test_loss += -np.sum(y * np.log(output))\n",
    "            prediction = np.argmax(output)\n",
    "            if prediction == test_labels[i]:\n",
    "                correct += 1\n",
    "        accuracy = correct / len(test_images)\n",
    "        test_loss /= len(test_images)\n",
    "        return accuracy, test_loss\n"
   ]
  },
  {
   "cell_type": "code",
   "execution_count": 5,
   "id": "a203c721-be70-4ca3-800d-76d2680fd925",
   "metadata": {},
   "outputs": [
    {
     "name": "stdout",
     "output_type": "stream",
     "text": [
      "Training the model...\n",
      "Epoch 1/10 complete, Loss: 1.2973\n",
      "Epoch 2/10 complete, Loss: 0.4711\n",
      "Epoch 3/10 complete, Loss: 0.4016\n",
      "Epoch 4/10 complete, Loss: 0.3709\n",
      "Epoch 5/10 complete, Loss: 0.3517\n",
      "Epoch 6/10 complete, Loss: 0.3379\n",
      "Epoch 7/10 complete, Loss: 0.3271\n",
      "Epoch 8/10 complete, Loss: 0.3182\n",
      "Epoch 9/10 complete, Loss: 0.3107\n",
      "Epoch 10/10 complete, Loss: 0.3043\n",
      "Final Test Accuracy: 0.8700\n",
      "Final Test Loss: 0.4249\n"
     ]
    }
   ],
   "source": [
    "cnn = CNN()\n",
    "training_losses, test_losses = cnn.train(train_images, train_labels, test_images, test_labels, epochs=10, learning_rate=0.01, batch_size=32)\n",
    "accuracy, test_loss = cnn.evaluate(test_images, test_labels)\n",
    "\n",
    "print(f\"Final Test Accuracy: {accuracy:.4f}\")\n",
    "print(f\"Final Test Loss: {test_loss:.4f}\")"
   ]
  },
  {
   "cell_type": "markdown",
   "id": "22d0e5ab-13f4-4e38-bfb8-228e334e6016",
   "metadata": {},
   "source": [
    "### CNN Report\n",
    "\n",
    "The CNN class defines a simple convolutional neural network designed to perform image classification tasks. The network's architecture is as follows:\n",
    "\n",
    "1. **Initialization**: The first convolutional layer (conv1_weights) has two filters of size 3x3, while the second layer (conv2_weights) acts as a fully connected layer with 10 output neurons, corresponding to the number of classes in the classification task. The weights are initialized with small random values to allow some variance at start and the biases are initialized to zero.\n",
    "\n",
    "2. **Activation Functions**: The network uses the sigmoid activation function for the first convolutional layer, implemented in the sigmoid method. The derivative of the sigmoid function, used during backpropagation, is defined in the sigmoid_derivative method. The output layer uses the softmax function, implemented in the softmax method, to produce class probabilities.\n",
    "\n",
    "3. **Convolution Operation**: The convolve method performs the convolution operation on the input image. It takes the input image, a kernel (filter), and a bias term, and slides the kernel over the image to compute the output feature map. \n",
    "\n",
    "4. **Pooling Operation**: The average_pooling method performs average pooling on the input feature map. This operation reduces the spatial dimensions of the feature map by taking the average of non-overlapping regions of a specified size (2x2 by default) and stride.\n",
    "\n",
    "5. **Forward Pass**: The forward method processes the input image through the network. First, it applies the convolution operation using the first set of filters, followed by the sigmoid activation function. Then, it applies average pooling to the resulting feature maps. The pooled output is flattened into a one-dimensional array and passed through the fully connected layer, which uses the softmax function to produce the final class probabilities.\n",
    "\n",
    "6. **Backward Pass**: The backward method performs backpropagation to update the network's weights and biases. It calculates the error between the predicted and actual output and propagates this error backward through the network. Gradients for the fully connected layer are computed first, followed by the gradients for the pooling and convolutional layers. The weights and biases are updated using these gradients and a specified learning rate.\n",
    "\n",
    "The training process involves iterating over the training data for a specified number of epochs, updating the network's parameters to minimize the loss. The evaluation process provides metrics to check the network's performance."
   ]
  },
  {
   "cell_type": "code",
   "execution_count": 6,
   "id": "d16e57b5-f888-4205-9239-289e449ef91d",
   "metadata": {},
   "outputs": [
    {
     "data": {
      "image/png": "[encoded data removed]",
      "text/plain": [
       "<Figure size 1000x500 with 1 Axes>"
      ]
     },
     "metadata": {},
     "output_type": "display_data"
    }
   ],
   "source": [
    "epochs = np.arange(1, len(training_losses) + 1)\n",
    "plt.figure(figsize=(10, 5))\n",
    "plt.plot(epochs, training_losses, label='Training Loss')\n",
    "plt.plot(epochs, test_losses, label='Testing Loss')\n",
    "plt.title('Training and Testing Loss over Epochs')\n",
    "plt.xlabel('Epochs')\n",
    "plt.ylabel('Loss')\n",
    "plt.legend()\n",
    "plt.show()"
   ]
  },
  {
   "cell_type": "markdown",
   "id": "64db6d68-9b26-4733-a076-904349a667ae",
   "metadata": {},
   "source": [
    "### Training and Evaluation Results\n",
    "The CNN model was trained for 10 epochs on the given dataset. The final test accuracy achieved by the model was 86.90%, with a final test loss of 0.4250. The above graph shows the gradual decrease in the training and the testing losses, implying that the model is able to make good inference of thr image given to it."
   ]
  },
  {
   "cell_type": "code",
   "execution_count": null,
   "id": "aac03c8d-170e-401f-a756-646642c86492",
   "metadata": {},
   "outputs": [],
   "source": []
  }
 ],
 "metadata": {
  "kernelspec": {
   "display_name": "Python 3 (ipykernel)",
   "language": "python",
   "name": "python3"
  },
  "language_info": {
   "codemirror_mode": {
    "name": "ipython",
    "version": 3
   },
   "file_extension": ".py",
   "mimetype": "text/x-python",
   "name": "python",
   "nbconvert_exporter": "python",
   "pygments_lexer": "ipython3",
   "version": "3.9.7"
  }
 },
 "nbformat": 4,
 "nbformat_minor": 5
}
